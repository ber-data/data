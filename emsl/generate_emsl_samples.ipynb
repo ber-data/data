{
 "cells": [
  {
   "cell_type": "markdown",
   "id": "686a4ab3",
   "metadata": {},
   "source": [
    "I used this query to dump the samples from the Nexus database\n",
    "\n",
    "```\n",
    "select 'EMSL' as ber_data_source,\n",
    "jsonb_build_object(\n",
    "\t'latitude', vpmt.metadata_value::json->'lat', \n",
    "\t'longitude', vpmt.metadata_value::json->'lon', \n",
    "\t'altitude', NULL,\n",
    "\t'depth', NULL,\n",
    "\t'elevation', NULL\n",
    ") AS coordinates,\n",
    "ARRAY[material_type] as data_type,\n",
    "vpmt.description as description,\n",
    "concat_ws(':', 'EMSL', vpmt.physical_material_uuid) as id,\n",
    "NULL as name,\n",
    "NULL as alt_ids,\n",
    "NULL as part_of_collection,\n",
    "concat_ws('=', 'https://sc-data.emsl.pnnl.gov/emsl?projectId', vpmt.project_id)\n",
    "from project_tracking.v_physical_materials_metadata vpmt\n",
    "join project_tracking.projects using (project_uuid)\n",
    "join project_tracking.physical_materials_tracking pmt using (physical_material_uuid)\n",
    "where material_type = 'sample' and metadata_type = 'requires_usda_permits' AND pmt.created > '2023-02-21' and vpmt.metadata_value <> '{\"lat\":0,\"lon\":0}' AND vpmt.metadata_value <> '{\"lat\":1,\"lon\":1}'\n",
    "order by projects.created desc;\n",
    "```"
   ]
  },
  {
   "cell_type": "markdown",
   "id": "9e76185e",
   "metadata": {},
   "source": []
  }
 ],
 "metadata": {
  "kernelspec": {
   "display_name": "Python 3",
   "language": "python",
   "name": "python3"
  },
  "language_info": {
   "codemirror_mode": {
    "name": "ipython",
    "version": 3
   },
   "file_extension": ".py",
   "mimetype": "text/x-python",
   "name": "python",
   "nbconvert_exporter": "python",
   "pygments_lexer": "ipython3",
   "version": "3.9.6"
  }
 },
 "nbformat": 4,
 "nbformat_minor": 5
}
