{
 "cells": [
  {
   "cell_type": "code",
<<<<<<< Updated upstream
   "execution_count": 2,
=======
   "execution_count": 45,
>>>>>>> Stashed changes
   "id": "031229fc",
   "metadata": {},
   "outputs": [
    {
     "name": "stderr",
     "output_type": "stream",
     "text": [
      "/Users/dett541/Library/Python/3.9/lib/python/site-packages/urllib3/__init__.py:35: NotOpenSSLWarning: urllib3 v2 only supports OpenSSL 1.1.1+, currently the 'ssl' module is compiled with 'LibreSSL 2.8.3'. See: https://github.com/urllib3/urllib3/issues/3020\n",
      "  warnings.warn(\n"
     ]
    }
   ],
   "source": [
    "import requests\n",
    "import json"
   ]
  },
  {
   "cell_type": "code",
<<<<<<< Updated upstream
   "execution_count": 3,
=======
   "execution_count": 46,
>>>>>>> Stashed changes
   "id": "df75b291",
   "metadata": {},
   "outputs": [],
   "source": [
    "root_url = \"https://sc-data.emsl.pnnl.gov\"\n",
    "samples = requests.get(f\"{root_url}/sample?page=1&per_page=1000\").json()['samples']"
   ]
  },
  {
   "cell_type": "code",
<<<<<<< Updated upstream
   "execution_count": 4,
=======
   "execution_count": 47,
>>>>>>> Stashed changes
   "id": "a3096d55",
   "metadata": {},
   "outputs": [
    {
     "data": {
      "text/plain": [
       "106"
      ]
     },
<<<<<<< Updated upstream
     "execution_count": 4,
=======
     "execution_count": 47,
>>>>>>> Stashed changes
     "metadata": {},
     "output_type": "execute_result"
    }
   ],
   "source": [
    "len(samples)"
   ]
  },
  {
   "cell_type": "code",
<<<<<<< Updated upstream
   "execution_count": 5,
=======
   "execution_count": 48,
>>>>>>> Stashed changes
   "id": "833ba42d",
   "metadata": {},
   "outputs": [],
   "source": [
    "monet_examples = []\n",
    "for sample in samples:\n",
    "    monet_example = {\n",
    "        \"ber_data_source\": \"MONET\",\n",
    "        \"coordinates\": {\n",
    "            \"latitude\": float(sample['latitude']),\n",
    "            \"longitude\": float(sample['longitude']),\n",
    "            \"altitude\": None,\n",
    "            \"depth\": None,\n",
    "            \"elevation\": {\n",
    "                \"has_numeric_value\": float(sample['elevation']['value']),\n",
    "                \"has_unit\": sample['elevation']['unit']\n",
    "            }\n",
    "        },\n",
    "        \"data_type\": [\n",
    "            f\"sample\"\n",
    "        ],\n",
    "        \"description\": None,\n",
    "        \"id\": sample['id'],\n",
    "        \"name\": f\"MONet Core {sample['proposal_id']}_{sample['sampling_set']}\",\n",
    "        \"alt_ids\": None,\n",
    "        \"alt_names\": None,\n",
    "        \"part_of_collection\": None,\n",
    "        \"uri\": \"https://sc-data.emsl.pnnl.gov/monet\"\n",
    "    }\n",
    "    monet_examples.append(monet_example)\n"
   ]
  },
  {
   "cell_type": "code",
<<<<<<< Updated upstream
   "execution_count": 6,
   "id": "f8510169",
   "metadata": {},
   "outputs": [],
   "source": [
    "with open('monet_samples.json', 'w') as f:\n",
    "    f.write(json.dumps(monet_examples))"
=======
   "execution_count": 49,
   "id": "27874d7d",
   "metadata": {},
   "outputs": [],
   "source": [
    "emsl_samples_df = pd.read_json('emsl_samples.json')"
   ]
  },
  {
   "cell_type": "code",
   "execution_count": 50,
   "id": "fc6d6e26",
   "metadata": {},
   "outputs": [],
   "source": [
    "emsl_samples = emsl_samples_df.to_dict(orient='records')"
   ]
  },
  {
   "cell_type": "code",
   "execution_count": 51,
   "id": "6034d56a",
   "metadata": {},
   "outputs": [],
   "source": [
    "emsl_samples.extend(monet_samples)"
   ]
  },
  {
   "cell_type": "code",
   "execution_count": 52,
   "id": "85f89ce8",
   "metadata": {},
   "outputs": [],
   "source": [
    "with open('data/data.json', 'w') as f:\n",
    "    f.write(simplejson.dumps(emsl_samples, ignore_nan=True))"
>>>>>>> Stashed changes
   ]
  },
  {
   "cell_type": "code",
   "execution_count": null,
   "id": "7d80a8b1",
   "metadata": {},
   "outputs": [],
   "source": []
  }
 ],
 "metadata": {
  "kernelspec": {
   "display_name": "Python 3",
   "language": "python",
   "name": "python3"
  },
  "language_info": {
   "codemirror_mode": {
    "name": "ipython",
    "version": 3
   },
   "file_extension": ".py",
   "mimetype": "text/x-python",
   "name": "python",
   "nbconvert_exporter": "python",
   "pygments_lexer": "ipython3",
   "version": "3.9.6"
  }
 },
 "nbformat": 4,
 "nbformat_minor": 5
}
