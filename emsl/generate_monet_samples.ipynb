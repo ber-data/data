{
 "cells": [
  {
   "cell_type": "code",
   "execution_count": 57,
   "id": "031229fc",
   "metadata": {},
   "outputs": [],
   "source": [
    "import requests\n",
    "import simplejson\n",
    "import pandas as pd"
   ]
  },
  {
   "cell_type": "code",
   "execution_count": 58,
   "id": "df75b291",
   "metadata": {},
   "outputs": [],
   "source": [
    "root_url = \"https://sc-data.emsl.pnnl.gov\"\n",
    "samples = requests.get(f\"{root_url}/sample?page=1&per_page=1000\").json()['samples']"
   ]
  },
  {
   "cell_type": "code",
   "execution_count": 59,
   "id": "a3096d55",
   "metadata": {},
   "outputs": [
    {
     "data": {
      "text/plain": [
       "106"
      ]
     },
     "execution_count": 59,
     "metadata": {},
     "output_type": "execute_result"
    }
   ],
   "source": [
    "len(samples)"
   ]
  },
  {
   "cell_type": "code",
   "execution_count": 63,
   "id": "833ba42d",
   "metadata": {},
   "outputs": [],
   "source": [
    "monet_samples = []\n",
    "for sample in samples:\n",
    "    monet_sample = {\n",
    "        \"ber_data_source\": \"MONET\",\n",
    "        \"coordinates\": {\n",
    "            \"latitude\": float(sample['latitude']),\n",
    "            \"longitude\": float(sample['longitude']),\n",
    "            \"altitude\": None,\n",
    "            \"depth\": None,\n",
    "            \"elevation\": {\n",
    "                \"has_numeric_value\": float(sample['elevation']['value']),\n",
    "                \"has_unit\": sample['elevation']['unit']\n",
    "            }\n",
    "        },\n",
    "        \"data_type\": [\n",
    "            f\"sample\"\n",
    "        ],\n",
    "        \"description\": None,\n",
    "        \"id\": sample['id'],\n",
    "        \"name\": f\"MONet Core {sample['proposal_id']}_{sample['sampling_set']}\",\n",
    "        \"alt_ids\": None,\n",
    "        \"alt_names\": None,\n",
    "        \"part_of_collection\": None,\n",
    "        \"uri\": \"https://sc-data.emsl.pnnl.gov/monet\"\n",
    "    }\n",
    "    monet_samples.append(monet_sample)\n"
   ]
  },
  {
   "cell_type": "code",
   "execution_count": 64,
   "id": "27874d7d",
   "metadata": {},
   "outputs": [],
   "source": [
    "emsl_samples_df = pd.read_json('emsl_samples.json')"
   ]
  },
  {
   "cell_type": "code",
   "execution_count": 65,
   "id": "fc6d6e26",
   "metadata": {},
   "outputs": [],
   "source": [
    "emsl_samples = emsl_samples_df.to_dict(orient='records')"
   ]
  },
  {
   "cell_type": "code",
   "execution_count": 66,
   "id": "6034d56a",
   "metadata": {},
   "outputs": [],
   "source": [
    "emsl_samples.extend(monet_samples)"
   ]
  },
  {
   "cell_type": "code",
   "execution_count": 67,
   "id": "85f89ce8",
   "metadata": {},
   "outputs": [],
   "source": [
    "with open('data/data.json', 'w') as f:\n",
    "    f.write(simplejson.dumps(emsl_samples, ignore_nan=True))"
   ]
  },
  {
   "cell_type": "code",
   "execution_count": null,
   "id": "57c36396",
   "metadata": {},
   "outputs": [],
   "source": []
  }
 ],
 "metadata": {
  "kernelspec": {
   "display_name": "Python 3",
   "language": "python",
   "name": "python3"
  },
  "language_info": {
   "codemirror_mode": {
    "name": "ipython",
    "version": 3
   },
   "file_extension": ".py",
   "mimetype": "text/x-python",
   "name": "python",
   "nbconvert_exporter": "python",
   "pygments_lexer": "ipython3",
   "version": "3.9.6"
  }
 },
 "nbformat": 4,
 "nbformat_minor": 5
}
