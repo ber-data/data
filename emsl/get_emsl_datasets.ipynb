{
 "cells": [
  {
   "cell_type": "code",
   "execution_count": 1,
   "metadata": {},
   "outputs": [],
   "source": [
    "import polars as pl\n",
    "import numpy as np\n",
    "import requests"
   ]
  },
  {
   "cell_type": "code",
   "execution_count": 2,
   "metadata": {},
   "outputs": [],
   "source": [
    "tkv_df = pl.read_csv('all_tkv.csv', schema_overrides={'project_id': pl.String})"
   ]
  },
  {
   "cell_type": "code",
   "execution_count": 3,
   "metadata": {},
   "outputs": [
    {
     "data": {
      "text/plain": [
       "['transaction_id',\n",
       " 'created',\n",
       " 'updated',\n",
       " 'instrument_id',\n",
       " 'project_id',\n",
       " 'display_name',\n",
       " 'value']"
      ]
     },
     "execution_count": 3,
     "metadata": {},
     "output_type": "execute_result"
    }
   ],
   "source": [
    "tkv_df.columns"
   ]
  },
  {
   "cell_type": "code",
   "execution_count": 4,
   "metadata": {},
   "outputs": [
    {
     "data": {
      "text/html": [
       "<div><style>\n",
       ".dataframe > thead > tr,\n",
       ".dataframe > tbody > tr {\n",
       "  text-align: right;\n",
       "  white-space: pre-wrap;\n",
       "}\n",
       "</style>\n",
       "<small>shape: (34,)</small><table border=\"1\" class=\"dataframe\"><thead><tr><th>display_name</th></tr><tr><td>str</td></tr></thead><tbody><tr><td>&quot;EMSL User&quot;</td></tr><tr><td>&quot;Instrument (DMS)&quot;</td></tr><tr><td>&quot;Campaign Name (DMS)&quot;</td></tr><tr><td>&quot;Campaign ID (DMS)&quot;</td></tr><tr><td>&quot;Tag2&quot;</td></tr><tr><td>&hellip;</td></tr><tr><td>&quot;Session ID (Krios)&quot;</td></tr><tr><td>&quot;Organism ID (DMS)&quot;</td></tr><tr><td>&quot;Tag1&quot;</td></tr><tr><td>&quot;Requested Run ID (DMS)&quot;</td></tr><tr><td>&quot;Run Acquisition Length (DMS)&quot;</td></tr></tbody></table></div>"
      ],
      "text/plain": [
       "shape: (34,)\n",
       "Series: 'display_name' [str]\n",
       "[\n",
       "\t\"EMSL User\"\n",
       "\t\"Instrument (DMS)\"\n",
       "\t\"Campaign Name (DMS)\"\n",
       "\t\"Campaign ID (DMS)\"\n",
       "\t\"Tag2\"\n",
       "\t…\n",
       "\t\"Session ID (Krios)\"\n",
       "\t\"Organism ID (DMS)\"\n",
       "\t\"Tag1\"\n",
       "\t\"Requested Run ID (DMS)\"\n",
       "\t\"Run Acquisition Length (DMS)\"\n",
       "]"
      ]
     },
     "execution_count": 4,
     "metadata": {},
     "output_type": "execute_result"
    }
   ],
   "source": [
    "tkv_df['display_name'].unique()"
   ]
  },
  {
   "cell_type": "code",
   "execution_count": 5,
   "metadata": {},
   "outputs": [
    {
     "name": "stderr",
     "output_type": "stream",
     "text": [
      "/var/folders/zj/15rg7d7j4v9b5cj3mlzqz9xc0000gn/T/ipykernel_45527/2412600687.py:1: DeprecationWarning: The argument `columns` for `DataFrame.pivot` is deprecated. It has been renamed to `on`.\n",
      "  pivoted_df = tkv_df[['transaction_id','display_name','value']].pivot(index='transaction_id', columns='display_name', values='value', aggregate_function='first')\n"
     ]
    }
   ],
   "source": [
    "pivoted_df = tkv_df[['transaction_id','display_name','value']].pivot(index='transaction_id', columns='display_name', values='value', aggregate_function='first')"
   ]
  },
  {
   "cell_type": "code",
   "execution_count": 6,
   "metadata": {},
   "outputs": [],
   "source": [
    "pivoted_df = pivoted_df[['transaction_id','Dataset (DMS)', 'Organism', 'Taxonomy ID (NCBI)', 'Tag']]"
   ]
  },
  {
   "cell_type": "code",
   "execution_count": 7,
   "metadata": {},
   "outputs": [],
   "source": [
    "pivoted_df = pivoted_df.rename({'Dataset (DMS)': 'dataset_name', 'Organism': 'organism', 'Taxonomy ID (NCBI)': 'taxonomy_id', 'Tag': 'description'})"
   ]
  },
  {
   "cell_type": "code",
   "execution_count": 8,
   "metadata": {},
   "outputs": [
    {
     "data": {
      "text/html": [
       "<div><style>\n",
       ".dataframe > thead > tr,\n",
       ".dataframe > tbody > tr {\n",
       "  text-align: right;\n",
       "  white-space: pre-wrap;\n",
       "}\n",
       "</style>\n",
       "<small>shape: (1_916_112, 5)</small><table border=\"1\" class=\"dataframe\"><thead><tr><th>transaction_id</th><th>dataset_name</th><th>organism</th><th>taxonomy_id</th><th>description</th></tr><tr><td>i64</td><td>str</td><td>str</td><td>str</td><td>str</td></tr></thead><tbody><tr><td>778524</td><td>&quot;PSA1000pg_1st_D_500ugserum_fra…</td><td>&quot;Homo_sapiens&quot;</td><td>&quot;9606&quot;</td><td>null</td></tr><tr><td>1223630</td><td>&quot;2017_04_13_Kyle_I_Tannic_AGW_K…</td><td>&quot;None&quot;</td><td>&quot;None&quot;</td><td>null</td></tr><tr><td>1008331</td><td>&quot;QC_CHECKpreclean_23Jun15_r5&quot;</td><td>&quot;Homo_sapiens&quot;</td><td>&quot;9606&quot;</td><td>null</td></tr><tr><td>924881</td><td>&quot;OMICS_WLN002_mock_pool_12_18De…</td><td>&quot;Homo_sapiens&quot;</td><td>&quot;9606&quot;</td><td>null</td></tr><tr><td>924880</td><td>&quot;OMICS_WLN002_mock_pool_12_18De…</td><td>&quot;Homo_sapiens&quot;</td><td>&quot;9606&quot;</td><td>null</td></tr><tr><td>&hellip;</td><td>&hellip;</td><td>&hellip;</td><td>&hellip;</td><td>&hellip;</td></tr><tr><td>1239692</td><td>null</td><td>null</td><td>null</td><td>null</td></tr><tr><td>270313</td><td>null</td><td>null</td><td>null</td><td>null</td></tr><tr><td>221748</td><td>null</td><td>null</td><td>null</td><td>null</td></tr><tr><td>1136247</td><td>null</td><td>null</td><td>null</td><td>null</td></tr><tr><td>1136631</td><td>null</td><td>null</td><td>null</td><td>null</td></tr></tbody></table></div>"
      ],
      "text/plain": [
       "shape: (1_916_112, 5)\n",
       "┌────────────────┬─────────────────────────────────┬──────────────┬─────────────┬─────────────┐\n",
       "│ transaction_id ┆ dataset_name                    ┆ organism     ┆ taxonomy_id ┆ description │\n",
       "│ ---            ┆ ---                             ┆ ---          ┆ ---         ┆ ---         │\n",
       "│ i64            ┆ str                             ┆ str          ┆ str         ┆ str         │\n",
       "╞════════════════╪═════════════════════════════════╪══════════════╪═════════════╪═════════════╡\n",
       "│ 778524         ┆ PSA1000pg_1st_D_500ugserum_fra… ┆ Homo_sapiens ┆ 9606        ┆ null        │\n",
       "│ 1223630        ┆ 2017_04_13_Kyle_I_Tannic_AGW_K… ┆ None         ┆ None        ┆ null        │\n",
       "│ 1008331        ┆ QC_CHECKpreclean_23Jun15_r5     ┆ Homo_sapiens ┆ 9606        ┆ null        │\n",
       "│ 924881         ┆ OMICS_WLN002_mock_pool_12_18De… ┆ Homo_sapiens ┆ 9606        ┆ null        │\n",
       "│ 924880         ┆ OMICS_WLN002_mock_pool_12_18De… ┆ Homo_sapiens ┆ 9606        ┆ null        │\n",
       "│ …              ┆ …                               ┆ …            ┆ …           ┆ …           │\n",
       "│ 1239692        ┆ null                            ┆ null         ┆ null        ┆ null        │\n",
       "│ 270313         ┆ null                            ┆ null         ┆ null        ┆ null        │\n",
       "│ 221748         ┆ null                            ┆ null         ┆ null        ┆ null        │\n",
       "│ 1136247        ┆ null                            ┆ null         ┆ null        ┆ null        │\n",
       "│ 1136631        ┆ null                            ┆ null         ┆ null        ┆ null        │\n",
       "└────────────────┴─────────────────────────────────┴──────────────┴─────────────┴─────────────┘"
      ]
     },
     "execution_count": 8,
     "metadata": {},
     "output_type": "execute_result"
    }
   ],
   "source": [
    "pivoted_df"
   ]
  },
  {
   "cell_type": "code",
   "execution_count": 9,
   "metadata": {},
   "outputs": [],
   "source": [
    "tkv_df = tkv_df[['transaction_id', 'created', 'updated', 'instrument_id', 'project_id']]"
   ]
  },
  {
   "cell_type": "code",
   "execution_count": 10,
   "metadata": {},
   "outputs": [],
   "source": [
    "tkv_df = tkv_df.group_by('transaction_id', 'created', 'updated', 'instrument_id', 'project_id').agg()"
   ]
  },
  {
   "cell_type": "code",
   "execution_count": 11,
   "metadata": {},
   "outputs": [],
   "source": [
    "tkv_cleaned_df = pivoted_df.join(tkv_df, on='transaction_id', how='left')"
   ]
  },
  {
   "cell_type": "code",
   "execution_count": 12,
   "metadata": {},
   "outputs": [
    {
     "data": {
      "text/html": [
       "<div><style>\n",
       ".dataframe > thead > tr,\n",
       ".dataframe > tbody > tr {\n",
       "  text-align: right;\n",
       "  white-space: pre-wrap;\n",
       "}\n",
       "</style>\n",
       "<small>shape: (1_916_112, 9)</small><table border=\"1\" class=\"dataframe\"><thead><tr><th>transaction_id</th><th>dataset_name</th><th>organism</th><th>taxonomy_id</th><th>description</th><th>created</th><th>updated</th><th>instrument_id</th><th>project_id</th></tr><tr><td>i64</td><td>str</td><td>str</td><td>str</td><td>str</td><td>str</td><td>str</td><td>i64</td><td>str</td></tr></thead><tbody><tr><td>778524</td><td>&quot;PSA1000pg_1st_D_500ugserum_fra…</td><td>&quot;Homo_sapiens&quot;</td><td>&quot;9606&quot;</td><td>null</td><td>&quot;13/6/2015 10:10:30&quot;</td><td>&quot;4/10/2018 08:12:09&quot;</td><td>34215</td><td>&quot;48505&quot;</td></tr><tr><td>1223630</td><td>&quot;2017_04_13_Kyle_I_Tannic_AGW_K…</td><td>&quot;None&quot;</td><td>&quot;None&quot;</td><td>null</td><td>&quot;17/4/2017 16:05:08&quot;</td><td>&quot;17/4/2017 16:05:08&quot;</td><td>34011</td><td>&quot;49712&quot;</td></tr><tr><td>1008331</td><td>&quot;QC_CHECKpreclean_23Jun15_r5&quot;</td><td>&quot;Homo_sapiens&quot;</td><td>&quot;9606&quot;</td><td>null</td><td>&quot;21/5/2016 20:23:30&quot;</td><td>&quot;21/5/2016 20:23:30&quot;</td><td>34234</td><td>&quot;48505&quot;</td></tr><tr><td>924881</td><td>&quot;OMICS_WLN002_mock_pool_12_18De…</td><td>&quot;Homo_sapiens&quot;</td><td>&quot;9606&quot;</td><td>null</td><td>&quot;14/1/2016 14:13:37&quot;</td><td>&quot;14/1/2016 14:13:37&quot;</td><td>34116</td><td>&quot;48199&quot;</td></tr><tr><td>924880</td><td>&quot;OMICS_WLN002_mock_pool_12_18De…</td><td>&quot;Homo_sapiens&quot;</td><td>&quot;9606&quot;</td><td>null</td><td>&quot;14/1/2016 14:13:23&quot;</td><td>&quot;14/1/2016 14:13:23&quot;</td><td>34116</td><td>&quot;48199&quot;</td></tr><tr><td>&hellip;</td><td>&hellip;</td><td>&hellip;</td><td>&hellip;</td><td>&hellip;</td><td>&hellip;</td><td>&hellip;</td><td>&hellip;</td><td>&hellip;</td></tr><tr><td>1239692</td><td>null</td><td>null</td><td>null</td><td>null</td><td>&quot;9/5/2017 16:47:18&quot;</td><td>&quot;9/5/2017 16:47:18&quot;</td><td>34127</td><td>&quot;48680&quot;</td></tr><tr><td>270313</td><td>null</td><td>null</td><td>null</td><td>null</td><td>&quot;17/8/2013 23:18:59&quot;</td><td>&quot;17/8/2013 23:18:59&quot;</td><td>34134</td><td>&quot;39968&quot;</td></tr><tr><td>221748</td><td>null</td><td>null</td><td>null</td><td>null</td><td>&quot;10/3/2013 20:49:46&quot;</td><td>&quot;10/3/2013 20:49:46&quot;</td><td>34176</td><td>&quot;39968&quot;</td></tr><tr><td>1136247</td><td>null</td><td>null</td><td>null</td><td>null</td><td>&quot;22/12/2016 13:38:24&quot;</td><td>&quot;22/12/2016 13:38:24&quot;</td><td>34127</td><td>&quot;48680&quot;</td></tr><tr><td>1136631</td><td>null</td><td>null</td><td>null</td><td>null</td><td>&quot;22/12/2016 17:43:31&quot;</td><td>&quot;22/12/2016 17:43:31&quot;</td><td>34114</td><td>&quot;49660&quot;</td></tr></tbody></table></div>"
      ],
      "text/plain": [
       "shape: (1_916_112, 9)\n",
       "┌───────────┬───────────┬───────────┬───────────┬───┬───────────┬───────────┬───────────┬──────────┐\n",
       "│ transacti ┆ dataset_n ┆ organism  ┆ taxonomy_ ┆ … ┆ created   ┆ updated   ┆ instrumen ┆ project_ │\n",
       "│ on_id     ┆ ame       ┆ ---       ┆ id        ┆   ┆ ---       ┆ ---       ┆ t_id      ┆ id       │\n",
       "│ ---       ┆ ---       ┆ str       ┆ ---       ┆   ┆ str       ┆ str       ┆ ---       ┆ ---      │\n",
       "│ i64       ┆ str       ┆           ┆ str       ┆   ┆           ┆           ┆ i64       ┆ str      │\n",
       "╞═══════════╪═══════════╪═══════════╪═══════════╪═══╪═══════════╪═══════════╪═══════════╪══════════╡\n",
       "│ 778524    ┆ PSA1000pg ┆ Homo_sapi ┆ 9606      ┆ … ┆ 13/6/2015 ┆ 4/10/2018 ┆ 34215     ┆ 48505    │\n",
       "│           ┆ _1st_D_50 ┆ ens       ┆           ┆   ┆ 10:10:30  ┆ 08:12:09  ┆           ┆          │\n",
       "│           ┆ 0ugserum_ ┆           ┆           ┆   ┆           ┆           ┆           ┆          │\n",
       "│           ┆ fra…      ┆           ┆           ┆   ┆           ┆           ┆           ┆          │\n",
       "│ 1223630   ┆ 2017_04_1 ┆ None      ┆ None      ┆ … ┆ 17/4/2017 ┆ 17/4/2017 ┆ 34011     ┆ 49712    │\n",
       "│           ┆ 3_Kyle_I_ ┆           ┆           ┆   ┆ 16:05:08  ┆ 16:05:08  ┆           ┆          │\n",
       "│           ┆ Tannic_AG ┆           ┆           ┆   ┆           ┆           ┆           ┆          │\n",
       "│           ┆ W_K…      ┆           ┆           ┆   ┆           ┆           ┆           ┆          │\n",
       "│ 1008331   ┆ QC_CHECKp ┆ Homo_sapi ┆ 9606      ┆ … ┆ 21/5/2016 ┆ 21/5/2016 ┆ 34234     ┆ 48505    │\n",
       "│           ┆ reclean_2 ┆ ens       ┆           ┆   ┆ 20:23:30  ┆ 20:23:30  ┆           ┆          │\n",
       "│           ┆ 3Jun15_r5 ┆           ┆           ┆   ┆           ┆           ┆           ┆          │\n",
       "│ 924881    ┆ OMICS_WLN ┆ Homo_sapi ┆ 9606      ┆ … ┆ 14/1/2016 ┆ 14/1/2016 ┆ 34116     ┆ 48199    │\n",
       "│           ┆ 002_mock_ ┆ ens       ┆           ┆   ┆ 14:13:37  ┆ 14:13:37  ┆           ┆          │\n",
       "│           ┆ pool_12_1 ┆           ┆           ┆   ┆           ┆           ┆           ┆          │\n",
       "│           ┆ 8De…      ┆           ┆           ┆   ┆           ┆           ┆           ┆          │\n",
       "│ 924880    ┆ OMICS_WLN ┆ Homo_sapi ┆ 9606      ┆ … ┆ 14/1/2016 ┆ 14/1/2016 ┆ 34116     ┆ 48199    │\n",
       "│           ┆ 002_mock_ ┆ ens       ┆           ┆   ┆ 14:13:23  ┆ 14:13:23  ┆           ┆          │\n",
       "│           ┆ pool_12_1 ┆           ┆           ┆   ┆           ┆           ┆           ┆          │\n",
       "│           ┆ 8De…      ┆           ┆           ┆   ┆           ┆           ┆           ┆          │\n",
       "│ …         ┆ …         ┆ …         ┆ …         ┆ … ┆ …         ┆ …         ┆ …         ┆ …        │\n",
       "│ 1239692   ┆ null      ┆ null      ┆ null      ┆ … ┆ 9/5/2017  ┆ 9/5/2017  ┆ 34127     ┆ 48680    │\n",
       "│           ┆           ┆           ┆           ┆   ┆ 16:47:18  ┆ 16:47:18  ┆           ┆          │\n",
       "│ 270313    ┆ null      ┆ null      ┆ null      ┆ … ┆ 17/8/2013 ┆ 17/8/2013 ┆ 34134     ┆ 39968    │\n",
       "│           ┆           ┆           ┆           ┆   ┆ 23:18:59  ┆ 23:18:59  ┆           ┆          │\n",
       "│ 221748    ┆ null      ┆ null      ┆ null      ┆ … ┆ 10/3/2013 ┆ 10/3/2013 ┆ 34176     ┆ 39968    │\n",
       "│           ┆           ┆           ┆           ┆   ┆ 20:49:46  ┆ 20:49:46  ┆           ┆          │\n",
       "│ 1136247   ┆ null      ┆ null      ┆ null      ┆ … ┆ 22/12/201 ┆ 22/12/201 ┆ 34127     ┆ 48680    │\n",
       "│           ┆           ┆           ┆           ┆   ┆ 6         ┆ 6         ┆           ┆          │\n",
       "│           ┆           ┆           ┆           ┆   ┆ 13:38:24  ┆ 13:38:24  ┆           ┆          │\n",
       "│ 1136631   ┆ null      ┆ null      ┆ null      ┆ … ┆ 22/12/201 ┆ 22/12/201 ┆ 34114     ┆ 49660    │\n",
       "│           ┆           ┆           ┆           ┆   ┆ 6         ┆ 6         ┆           ┆          │\n",
       "│           ┆           ┆           ┆           ┆   ┆ 17:43:31  ┆ 17:43:31  ┆           ┆          │\n",
       "└───────────┴───────────┴───────────┴───────────┴───┴───────────┴───────────┴───────────┴──────────┘"
      ]
     },
     "execution_count": 12,
     "metadata": {},
     "output_type": "execute_result"
    }
   ],
   "source": [
    "tkv_cleaned_df"
   ]
  },
  {
   "cell_type": "code",
   "execution_count": 13,
   "metadata": {},
   "outputs": [],
   "source": [
    "dois_df = pl.read_csv(\"dois.csv\")"
   ]
  },
  {
   "cell_type": "code",
   "execution_count": 14,
   "metadata": {},
   "outputs": [
    {
     "data": {
      "text/plain": [
       "'https://release.my.emsl.pnnl.gov/released_data/1850470'"
      ]
     },
     "execution_count": 14,
     "metadata": {},
     "output_type": "execute_result"
    }
   ],
   "source": [
    "dois_df['site_url'][0]"
   ]
  },
  {
   "cell_type": "code",
   "execution_count": 44,
   "metadata": {},
   "outputs": [],
   "source": [
    "datasets_df = tkv_cleaned_df.join(dois_df, how=\"left\", left_on=\"transaction_id\", right_on=\"upload_id\")"
   ]
  },
  {
   "cell_type": "code",
   "execution_count": 45,
   "metadata": {},
   "outputs": [
    {
     "data": {
      "text/html": [
       "<div><style>\n",
       ".dataframe > thead > tr,\n",
       ".dataframe > tbody > tr {\n",
       "  text-align: right;\n",
       "  white-space: pre-wrap;\n",
       "}\n",
       "</style>\n",
       "<small>shape: (1_916_193, 11)</small><table border=\"1\" class=\"dataframe\"><thead><tr><th>transaction_id</th><th>dataset_name</th><th>organism</th><th>taxonomy_id</th><th>description</th><th>created</th><th>updated</th><th>instrument_id</th><th>project_id</th><th>doi</th><th>site_url</th></tr><tr><td>i64</td><td>str</td><td>str</td><td>str</td><td>str</td><td>str</td><td>str</td><td>i64</td><td>str</td><td>str</td><td>str</td></tr></thead><tbody><tr><td>778524</td><td>&quot;PSA1000pg_1st_D_500ugserum_fra…</td><td>&quot;Homo_sapiens&quot;</td><td>&quot;9606&quot;</td><td>null</td><td>&quot;13/6/2015 10:10:30&quot;</td><td>&quot;4/10/2018 08:12:09&quot;</td><td>34215</td><td>&quot;48505&quot;</td><td>null</td><td>null</td></tr><tr><td>1223630</td><td>&quot;2017_04_13_Kyle_I_Tannic_AGW_K…</td><td>&quot;None&quot;</td><td>&quot;None&quot;</td><td>null</td><td>&quot;17/4/2017 16:05:08&quot;</td><td>&quot;17/4/2017 16:05:08&quot;</td><td>34011</td><td>&quot;49712&quot;</td><td>null</td><td>null</td></tr><tr><td>1008331</td><td>&quot;QC_CHECKpreclean_23Jun15_r5&quot;</td><td>&quot;Homo_sapiens&quot;</td><td>&quot;9606&quot;</td><td>null</td><td>&quot;21/5/2016 20:23:30&quot;</td><td>&quot;21/5/2016 20:23:30&quot;</td><td>34234</td><td>&quot;48505&quot;</td><td>null</td><td>null</td></tr><tr><td>924881</td><td>&quot;OMICS_WLN002_mock_pool_12_18De…</td><td>&quot;Homo_sapiens&quot;</td><td>&quot;9606&quot;</td><td>null</td><td>&quot;14/1/2016 14:13:37&quot;</td><td>&quot;14/1/2016 14:13:37&quot;</td><td>34116</td><td>&quot;48199&quot;</td><td>null</td><td>null</td></tr><tr><td>924880</td><td>&quot;OMICS_WLN002_mock_pool_12_18De…</td><td>&quot;Homo_sapiens&quot;</td><td>&quot;9606&quot;</td><td>null</td><td>&quot;14/1/2016 14:13:23&quot;</td><td>&quot;14/1/2016 14:13:23&quot;</td><td>34116</td><td>&quot;48199&quot;</td><td>null</td><td>null</td></tr><tr><td>&hellip;</td><td>&hellip;</td><td>&hellip;</td><td>&hellip;</td><td>&hellip;</td><td>&hellip;</td><td>&hellip;</td><td>&hellip;</td><td>&hellip;</td><td>&hellip;</td><td>&hellip;</td></tr><tr><td>1239692</td><td>null</td><td>null</td><td>null</td><td>null</td><td>&quot;9/5/2017 16:47:18&quot;</td><td>&quot;9/5/2017 16:47:18&quot;</td><td>34127</td><td>&quot;48680&quot;</td><td>null</td><td>null</td></tr><tr><td>270313</td><td>null</td><td>null</td><td>null</td><td>null</td><td>&quot;17/8/2013 23:18:59&quot;</td><td>&quot;17/8/2013 23:18:59&quot;</td><td>34134</td><td>&quot;39968&quot;</td><td>null</td><td>null</td></tr><tr><td>221748</td><td>null</td><td>null</td><td>null</td><td>null</td><td>&quot;10/3/2013 20:49:46&quot;</td><td>&quot;10/3/2013 20:49:46&quot;</td><td>34176</td><td>&quot;39968&quot;</td><td>null</td><td>null</td></tr><tr><td>1136247</td><td>null</td><td>null</td><td>null</td><td>null</td><td>&quot;22/12/2016 13:38:24&quot;</td><td>&quot;22/12/2016 13:38:24&quot;</td><td>34127</td><td>&quot;48680&quot;</td><td>null</td><td>null</td></tr><tr><td>1136631</td><td>null</td><td>null</td><td>null</td><td>null</td><td>&quot;22/12/2016 17:43:31&quot;</td><td>&quot;22/12/2016 17:43:31&quot;</td><td>34114</td><td>&quot;49660&quot;</td><td>null</td><td>null</td></tr></tbody></table></div>"
      ],
      "text/plain": [
       "shape: (1_916_193, 11)\n",
       "┌────────────┬────────────┬────────────┬────────────┬───┬────────────┬───────────┬──────┬──────────┐\n",
       "│ transactio ┆ dataset_na ┆ organism   ┆ taxonomy_i ┆ … ┆ instrument ┆ project_i ┆ doi  ┆ site_url │\n",
       "│ n_id       ┆ me         ┆ ---        ┆ d          ┆   ┆ _id        ┆ d         ┆ ---  ┆ ---      │\n",
       "│ ---        ┆ ---        ┆ str        ┆ ---        ┆   ┆ ---        ┆ ---       ┆ str  ┆ str      │\n",
       "│ i64        ┆ str        ┆            ┆ str        ┆   ┆ i64        ┆ str       ┆      ┆          │\n",
       "╞════════════╪════════════╪════════════╪════════════╪═══╪════════════╪═══════════╪══════╪══════════╡\n",
       "│ 778524     ┆ PSA1000pg_ ┆ Homo_sapie ┆ 9606       ┆ … ┆ 34215      ┆ 48505     ┆ null ┆ null     │\n",
       "│            ┆ 1st_D_500u ┆ ns         ┆            ┆   ┆            ┆           ┆      ┆          │\n",
       "│            ┆ gserum_fra ┆            ┆            ┆   ┆            ┆           ┆      ┆          │\n",
       "│            ┆ …          ┆            ┆            ┆   ┆            ┆           ┆      ┆          │\n",
       "│ 1223630    ┆ 2017_04_13 ┆ None       ┆ None       ┆ … ┆ 34011      ┆ 49712     ┆ null ┆ null     │\n",
       "│            ┆ _Kyle_I_Ta ┆            ┆            ┆   ┆            ┆           ┆      ┆          │\n",
       "│            ┆ nnic_AGW_K ┆            ┆            ┆   ┆            ┆           ┆      ┆          │\n",
       "│            ┆ …          ┆            ┆            ┆   ┆            ┆           ┆      ┆          │\n",
       "│ 1008331    ┆ QC_CHECKpr ┆ Homo_sapie ┆ 9606       ┆ … ┆ 34234      ┆ 48505     ┆ null ┆ null     │\n",
       "│            ┆ eclean_23J ┆ ns         ┆            ┆   ┆            ┆           ┆      ┆          │\n",
       "│            ┆ un15_r5    ┆            ┆            ┆   ┆            ┆           ┆      ┆          │\n",
       "│ 924881     ┆ OMICS_WLN0 ┆ Homo_sapie ┆ 9606       ┆ … ┆ 34116      ┆ 48199     ┆ null ┆ null     │\n",
       "│            ┆ 02_mock_po ┆ ns         ┆            ┆   ┆            ┆           ┆      ┆          │\n",
       "│            ┆ ol_12_18De ┆            ┆            ┆   ┆            ┆           ┆      ┆          │\n",
       "│            ┆ …          ┆            ┆            ┆   ┆            ┆           ┆      ┆          │\n",
       "│ 924880     ┆ OMICS_WLN0 ┆ Homo_sapie ┆ 9606       ┆ … ┆ 34116      ┆ 48199     ┆ null ┆ null     │\n",
       "│            ┆ 02_mock_po ┆ ns         ┆            ┆   ┆            ┆           ┆      ┆          │\n",
       "│            ┆ ol_12_18De ┆            ┆            ┆   ┆            ┆           ┆      ┆          │\n",
       "│            ┆ …          ┆            ┆            ┆   ┆            ┆           ┆      ┆          │\n",
       "│ …          ┆ …          ┆ …          ┆ …          ┆ … ┆ …          ┆ …         ┆ …    ┆ …        │\n",
       "│ 1239692    ┆ null       ┆ null       ┆ null       ┆ … ┆ 34127      ┆ 48680     ┆ null ┆ null     │\n",
       "│ 270313     ┆ null       ┆ null       ┆ null       ┆ … ┆ 34134      ┆ 39968     ┆ null ┆ null     │\n",
       "│ 221748     ┆ null       ┆ null       ┆ null       ┆ … ┆ 34176      ┆ 39968     ┆ null ┆ null     │\n",
       "│ 1136247    ┆ null       ┆ null       ┆ null       ┆ … ┆ 34127      ┆ 48680     ┆ null ┆ null     │\n",
       "│ 1136631    ┆ null       ┆ null       ┆ null       ┆ … ┆ 34114      ┆ 49660     ┆ null ┆ null     │\n",
       "└────────────┴────────────┴────────────┴────────────┴───┴────────────┴───────────┴──────┴──────────┘"
      ]
     },
     "execution_count": 45,
     "metadata": {},
     "output_type": "execute_result"
    }
   ],
   "source": [
    "datasets_df"
   ]
  },
  {
   "cell_type": "code",
   "execution_count": null,
   "metadata": {},
   "outputs": [
    {
     "data": {
      "text/html": [
       "<div><style>\n",
       ".dataframe > thead > tr,\n",
       ".dataframe > tbody > tr {\n",
       "  text-align: right;\n",
       "  white-space: pre-wrap;\n",
       "}\n",
       "</style>\n",
       "<small>shape: (1_916_193, 11)</small><table border=\"1\" class=\"dataframe\"><thead><tr><th>transaction_id</th><th>dataset_name</th><th>organism</th><th>taxonomy_id</th><th>description</th><th>created</th><th>updated</th><th>instrument_id</th><th>project_id</th><th>doi</th><th>site_url</th></tr><tr><td>i64</td><td>str</td><td>str</td><td>str</td><td>str</td><td>str</td><td>str</td><td>i64</td><td>str</td><td>str</td><td>str</td></tr></thead><tbody><tr><td>778524</td><td>&quot;PSA1000pg_1st_D_500ugserum_fra…</td><td>&quot;Homo_sapiens&quot;</td><td>&quot;9606&quot;</td><td>null</td><td>&quot;13/6/2015&quot;</td><td>&quot;4/10/2018&quot;</td><td>34215</td><td>&quot;48505&quot;</td><td>null</td><td>null</td></tr><tr><td>1223630</td><td>&quot;2017_04_13_Kyle_I_Tannic_AGW_K…</td><td>&quot;None&quot;</td><td>&quot;None&quot;</td><td>null</td><td>&quot;17/4/2017&quot;</td><td>&quot;17/4/2017&quot;</td><td>34011</td><td>&quot;49712&quot;</td><td>null</td><td>null</td></tr><tr><td>1008331</td><td>&quot;QC_CHECKpreclean_23Jun15_r5&quot;</td><td>&quot;Homo_sapiens&quot;</td><td>&quot;9606&quot;</td><td>null</td><td>&quot;21/5/2016&quot;</td><td>&quot;21/5/2016&quot;</td><td>34234</td><td>&quot;48505&quot;</td><td>null</td><td>null</td></tr><tr><td>924881</td><td>&quot;OMICS_WLN002_mock_pool_12_18De…</td><td>&quot;Homo_sapiens&quot;</td><td>&quot;9606&quot;</td><td>null</td><td>&quot;14/1/2016&quot;</td><td>&quot;14/1/2016&quot;</td><td>34116</td><td>&quot;48199&quot;</td><td>null</td><td>null</td></tr><tr><td>924880</td><td>&quot;OMICS_WLN002_mock_pool_12_18De…</td><td>&quot;Homo_sapiens&quot;</td><td>&quot;9606&quot;</td><td>null</td><td>&quot;14/1/2016&quot;</td><td>&quot;14/1/2016&quot;</td><td>34116</td><td>&quot;48199&quot;</td><td>null</td><td>null</td></tr><tr><td>&hellip;</td><td>&hellip;</td><td>&hellip;</td><td>&hellip;</td><td>&hellip;</td><td>&hellip;</td><td>&hellip;</td><td>&hellip;</td><td>&hellip;</td><td>&hellip;</td><td>&hellip;</td></tr><tr><td>1239692</td><td>null</td><td>null</td><td>null</td><td>null</td><td>&quot;9/5/2017&quot;</td><td>&quot;9/5/2017&quot;</td><td>34127</td><td>&quot;48680&quot;</td><td>null</td><td>null</td></tr><tr><td>270313</td><td>null</td><td>null</td><td>null</td><td>null</td><td>&quot;17/8/2013&quot;</td><td>&quot;17/8/2013&quot;</td><td>34134</td><td>&quot;39968&quot;</td><td>null</td><td>null</td></tr><tr><td>221748</td><td>null</td><td>null</td><td>null</td><td>null</td><td>&quot;10/3/2013&quot;</td><td>&quot;10/3/2013&quot;</td><td>34176</td><td>&quot;39968&quot;</td><td>null</td><td>null</td></tr><tr><td>1136247</td><td>null</td><td>null</td><td>null</td><td>null</td><td>&quot;22/12/2016&quot;</td><td>&quot;22/12/2016&quot;</td><td>34127</td><td>&quot;48680&quot;</td><td>null</td><td>null</td></tr><tr><td>1136631</td><td>null</td><td>null</td><td>null</td><td>null</td><td>&quot;22/12/2016&quot;</td><td>&quot;22/12/2016&quot;</td><td>34114</td><td>&quot;49660&quot;</td><td>null</td><td>null</td></tr></tbody></table></div>"
      ],
      "text/plain": [
       "shape: (1_916_193, 11)\n",
       "┌────────────┬────────────┬────────────┬────────────┬───┬────────────┬───────────┬──────┬──────────┐\n",
       "│ transactio ┆ dataset_na ┆ organism   ┆ taxonomy_i ┆ … ┆ instrument ┆ project_i ┆ doi  ┆ site_url │\n",
       "│ n_id       ┆ me         ┆ ---        ┆ d          ┆   ┆ _id        ┆ d         ┆ ---  ┆ ---      │\n",
       "│ ---        ┆ ---        ┆ str        ┆ ---        ┆   ┆ ---        ┆ ---       ┆ str  ┆ str      │\n",
       "│ i64        ┆ str        ┆            ┆ str        ┆   ┆ i64        ┆ str       ┆      ┆          │\n",
       "╞════════════╪════════════╪════════════╪════════════╪═══╪════════════╪═══════════╪══════╪══════════╡\n",
       "│ 778524     ┆ PSA1000pg_ ┆ Homo_sapie ┆ 9606       ┆ … ┆ 34215      ┆ 48505     ┆ null ┆ null     │\n",
       "│            ┆ 1st_D_500u ┆ ns         ┆            ┆   ┆            ┆           ┆      ┆          │\n",
       "│            ┆ gserum_fra ┆            ┆            ┆   ┆            ┆           ┆      ┆          │\n",
       "│            ┆ …          ┆            ┆            ┆   ┆            ┆           ┆      ┆          │\n",
       "│ 1223630    ┆ 2017_04_13 ┆ None       ┆ None       ┆ … ┆ 34011      ┆ 49712     ┆ null ┆ null     │\n",
       "│            ┆ _Kyle_I_Ta ┆            ┆            ┆   ┆            ┆           ┆      ┆          │\n",
       "│            ┆ nnic_AGW_K ┆            ┆            ┆   ┆            ┆           ┆      ┆          │\n",
       "│            ┆ …          ┆            ┆            ┆   ┆            ┆           ┆      ┆          │\n",
       "│ 1008331    ┆ QC_CHECKpr ┆ Homo_sapie ┆ 9606       ┆ … ┆ 34234      ┆ 48505     ┆ null ┆ null     │\n",
       "│            ┆ eclean_23J ┆ ns         ┆            ┆   ┆            ┆           ┆      ┆          │\n",
       "│            ┆ un15_r5    ┆            ┆            ┆   ┆            ┆           ┆      ┆          │\n",
       "│ 924881     ┆ OMICS_WLN0 ┆ Homo_sapie ┆ 9606       ┆ … ┆ 34116      ┆ 48199     ┆ null ┆ null     │\n",
       "│            ┆ 02_mock_po ┆ ns         ┆            ┆   ┆            ┆           ┆      ┆          │\n",
       "│            ┆ ol_12_18De ┆            ┆            ┆   ┆            ┆           ┆      ┆          │\n",
       "│            ┆ …          ┆            ┆            ┆   ┆            ┆           ┆      ┆          │\n",
       "│ 924880     ┆ OMICS_WLN0 ┆ Homo_sapie ┆ 9606       ┆ … ┆ 34116      ┆ 48199     ┆ null ┆ null     │\n",
       "│            ┆ 02_mock_po ┆ ns         ┆            ┆   ┆            ┆           ┆      ┆          │\n",
       "│            ┆ ol_12_18De ┆            ┆            ┆   ┆            ┆           ┆      ┆          │\n",
       "│            ┆ …          ┆            ┆            ┆   ┆            ┆           ┆      ┆          │\n",
       "│ …          ┆ …          ┆ …          ┆ …          ┆ … ┆ …          ┆ …         ┆ …    ┆ …        │\n",
       "│ 1239692    ┆ null       ┆ null       ┆ null       ┆ … ┆ 34127      ┆ 48680     ┆ null ┆ null     │\n",
       "│ 270313     ┆ null       ┆ null       ┆ null       ┆ … ┆ 34134      ┆ 39968     ┆ null ┆ null     │\n",
       "│ 221748     ┆ null       ┆ null       ┆ null       ┆ … ┆ 34176      ┆ 39968     ┆ null ┆ null     │\n",
       "│ 1136247    ┆ null       ┆ null       ┆ null       ┆ … ┆ 34127      ┆ 48680     ┆ null ┆ null     │\n",
       "│ 1136631    ┆ null       ┆ null       ┆ null       ┆ … ┆ 34114      ┆ 49660     ┆ null ┆ null     │\n",
       "└────────────┴────────────┴────────────┴────────────┴───┴────────────┴───────────┴──────┴──────────┘"
      ]
     },
     "execution_count": 56,
     "metadata": {},
     "output_type": "execute_result"
    }
   ],
   "source": [
    "datasets_df.with_columns(\n",
    "    datasets_df['created'].str.split_exact(\" \",0).struct.rename_fields(['created']).alias(\"created\"),\n",
    "    datasets_df['updated'].str.split_exact(\" \",0).struct.rename_fields(['updated']).alias(\"updated\")\n",
    ").unnest(\"created\", \"updated\")"
   ]
  },
  {
   "cell_type": "code",
   "execution_count": 57,
   "metadata": {},
   "outputs": [],
   "source": [
    "datasets_df = datasets_df.with_columns((\"https://release.my.emsl.pnnl.gov/released_data/\" + datasets_df['transaction_id'].cast(pl.String)).alias(\"site_url\"))"
   ]
  },
  {
   "cell_type": "code",
   "execution_count": 58,
   "metadata": {},
   "outputs": [],
   "source": [
    "datasets_df = datasets_df.with_columns(pl.lit(\"EMSL\").alias(\"data_source\"), pl.lit(46.348660).alias(\"latitude\"), pl.lit(-119.278173).alias(\"longitude\"))"
   ]
  },
  {
   "cell_type": "code",
   "execution_count": 59,
   "metadata": {},
   "outputs": [
    {
     "data": {
      "text/plain": [
       "['transaction_id',\n",
       " 'dataset_name',\n",
       " 'organism',\n",
       " 'taxonomy_id',\n",
       " 'description',\n",
       " 'created',\n",
       " 'updated',\n",
       " 'instrument_id',\n",
       " 'project_id',\n",
       " 'doi',\n",
       " 'site_url',\n",
       " 'data_source',\n",
       " 'latitude',\n",
       " 'longitude']"
      ]
     },
     "execution_count": 59,
     "metadata": {},
     "output_type": "execute_result"
    }
   ],
   "source": [
    "datasets_df.columns"
   ]
  },
  {
   "cell_type": "code",
   "execution_count": 60,
   "metadata": {},
   "outputs": [],
   "source": [
    "datasets_df = datasets_df.rename({'transaction_id': 'id', 'dataset_name': 'name', 'created':'date_created', 'updated': 'date_updated', 'site_url': 'url' })"
   ]
  },
  {
   "cell_type": "code",
   "execution_count": 61,
   "metadata": {},
   "outputs": [],
   "source": [
    "vals = datasets_df[['organism', 'taxonomy_id', 'instrument_id']].to_dicts()"
   ]
  },
  {
   "cell_type": "code",
   "execution_count": 62,
   "metadata": {},
   "outputs": [],
   "source": [
    "cleaned_vals = []\n",
    "for val in vals:\n",
    "    cleaned_val = {}\n",
    "    for key in val:\n",
    "        if val[key] != 'None':\n",
    "            cleaned_val[key] = val[key]\n",
    "    cleaned_vals.append(cleaned_val)"
   ]
  },
  {
   "cell_type": "code",
   "execution_count": 63,
   "metadata": {},
   "outputs": [],
   "source": [
    "datasets_dict = datasets_df[[\"id\", \"name\", \"description\",\"date_created\",\"date_updated\",\"instrument_id\",\"project_id\",\"doi\",\"url\",\"data_source\",\"latitude\",\"longitude\"]].to_dicts()"
   ]
  },
  {
   "cell_type": "code",
   "execution_count": 64,
   "metadata": {},
   "outputs": [],
   "source": [
    "import math\n",
    "new_vals = []\n",
    "for val, metadata in zip(datasets_dict, cleaned_vals):\n",
    "    new_val = val.copy()\n",
    "    new_val['metadata'] = metadata\n",
    "    for field in val:\n",
    "        if val[field] == 'None' or str(val[field]) == 'None':\n",
    "            new_val.pop(field)\n",
    "    new_vals.append(new_val)\n"
   ]
  },
  {
   "cell_type": "code",
   "execution_count": 66,
   "metadata": {},
   "outputs": [],
   "source": [
    "import json\n",
    "with open('emsl_samples.json', 'w') as f:\n",
    "    f.write(json.dumps(new_vals))"
   ]
  },
  {
   "cell_type": "code",
   "execution_count": null,
   "metadata": {},
   "outputs": [],
   "source": [
    "json.dumps(new_vals)"
   ]
  },
  {
   "cell_type": "code",
   "execution_count": 41,
   "metadata": {},
   "outputs": [
    {
     "data": {
      "text/html": [
       "<div><style>\n",
       ".dataframe > thead > tr,\n",
       ".dataframe > tbody > tr {\n",
       "  text-align: right;\n",
       "  white-space: pre-wrap;\n",
       "}\n",
       "</style>\n",
       "<small>shape: (1_916_193, 11)</small><table border=\"1\" class=\"dataframe\"><thead><tr><th>id</th><th>name</th><th>date_created</th><th>date_updated</th><th>instrument_id</th><th>project_id</th><th>url</th><th>data_source</th><th>latitude</th><th>longitude</th><th>metadata</th></tr><tr><td>i64</td><td>str</td><td>str</td><td>str</td><td>i64</td><td>str</td><td>str</td><td>str</td><td>f64</td><td>f64</td><td>struct[3]</td></tr></thead><tbody><tr><td>778524</td><td>&quot;PSA1000pg_1st_D_500ugserum_fra…</td><td>&quot;13/6/2015 10:10:30&quot;</td><td>&quot;4/10/2018 08:12:09&quot;</td><td>34215</td><td>&quot;48505&quot;</td><td>&quot;https://release.my.emsl.pnnl.g…</td><td>&quot;EMSL&quot;</td><td>46.34866</td><td>-119.278173</td><td>{&quot;Homo_sapiens&quot;,&quot;9606&quot;,34215}</td></tr><tr><td>1223630</td><td>&quot;2017_04_13_Kyle_I_Tannic_AGW_K…</td><td>&quot;17/4/2017 16:05:08&quot;</td><td>&quot;17/4/2017 16:05:08&quot;</td><td>34011</td><td>&quot;49712&quot;</td><td>&quot;https://release.my.emsl.pnnl.g…</td><td>&quot;EMSL&quot;</td><td>46.34866</td><td>-119.278173</td><td>{null,null,34011}</td></tr><tr><td>1008331</td><td>&quot;QC_CHECKpreclean_23Jun15_r5&quot;</td><td>&quot;21/5/2016 20:23:30&quot;</td><td>&quot;21/5/2016 20:23:30&quot;</td><td>34234</td><td>&quot;48505&quot;</td><td>&quot;https://release.my.emsl.pnnl.g…</td><td>&quot;EMSL&quot;</td><td>46.34866</td><td>-119.278173</td><td>{&quot;Homo_sapiens&quot;,&quot;9606&quot;,34234}</td></tr><tr><td>924881</td><td>&quot;OMICS_WLN002_mock_pool_12_18De…</td><td>&quot;14/1/2016 14:13:37&quot;</td><td>&quot;14/1/2016 14:13:37&quot;</td><td>34116</td><td>&quot;48199&quot;</td><td>&quot;https://release.my.emsl.pnnl.g…</td><td>&quot;EMSL&quot;</td><td>46.34866</td><td>-119.278173</td><td>{&quot;Homo_sapiens&quot;,&quot;9606&quot;,34116}</td></tr><tr><td>924880</td><td>&quot;OMICS_WLN002_mock_pool_12_18De…</td><td>&quot;14/1/2016 14:13:23&quot;</td><td>&quot;14/1/2016 14:13:23&quot;</td><td>34116</td><td>&quot;48199&quot;</td><td>&quot;https://release.my.emsl.pnnl.g…</td><td>&quot;EMSL&quot;</td><td>46.34866</td><td>-119.278173</td><td>{&quot;Homo_sapiens&quot;,&quot;9606&quot;,34116}</td></tr><tr><td>&hellip;</td><td>&hellip;</td><td>&hellip;</td><td>&hellip;</td><td>&hellip;</td><td>&hellip;</td><td>&hellip;</td><td>&hellip;</td><td>&hellip;</td><td>&hellip;</td><td>&hellip;</td></tr><tr><td>1239692</td><td>null</td><td>&quot;9/5/2017 16:47:18&quot;</td><td>&quot;9/5/2017 16:47:18&quot;</td><td>34127</td><td>&quot;48680&quot;</td><td>&quot;https://release.my.emsl.pnnl.g…</td><td>&quot;EMSL&quot;</td><td>46.34866</td><td>-119.278173</td><td>{null,null,34127}</td></tr><tr><td>270313</td><td>null</td><td>&quot;17/8/2013 23:18:59&quot;</td><td>&quot;17/8/2013 23:18:59&quot;</td><td>34134</td><td>&quot;39968&quot;</td><td>&quot;https://release.my.emsl.pnnl.g…</td><td>&quot;EMSL&quot;</td><td>46.34866</td><td>-119.278173</td><td>{null,null,34134}</td></tr><tr><td>221748</td><td>null</td><td>&quot;10/3/2013 20:49:46&quot;</td><td>&quot;10/3/2013 20:49:46&quot;</td><td>34176</td><td>&quot;39968&quot;</td><td>&quot;https://release.my.emsl.pnnl.g…</td><td>&quot;EMSL&quot;</td><td>46.34866</td><td>-119.278173</td><td>{null,null,34176}</td></tr><tr><td>1136247</td><td>null</td><td>&quot;22/12/2016 13:38:24&quot;</td><td>&quot;22/12/2016 13:38:24&quot;</td><td>34127</td><td>&quot;48680&quot;</td><td>&quot;https://release.my.emsl.pnnl.g…</td><td>&quot;EMSL&quot;</td><td>46.34866</td><td>-119.278173</td><td>{null,null,34127}</td></tr><tr><td>1136631</td><td>null</td><td>&quot;22/12/2016 17:43:31&quot;</td><td>&quot;22/12/2016 17:43:31&quot;</td><td>34114</td><td>&quot;49660&quot;</td><td>&quot;https://release.my.emsl.pnnl.g…</td><td>&quot;EMSL&quot;</td><td>46.34866</td><td>-119.278173</td><td>{null,null,34114}</td></tr></tbody></table></div>"
      ],
      "text/plain": [
       "shape: (1_916_193, 11)\n",
       "┌─────────┬────────────┬────────────┬───────────┬───┬───────────┬──────────┬───────────┬───────────┐\n",
       "│ id      ┆ name       ┆ date_creat ┆ date_upda ┆ … ┆ data_sour ┆ latitude ┆ longitude ┆ metadata  │\n",
       "│ ---     ┆ ---        ┆ ed         ┆ ted       ┆   ┆ ce        ┆ ---      ┆ ---       ┆ ---       │\n",
       "│ i64     ┆ str        ┆ ---        ┆ ---       ┆   ┆ ---       ┆ f64      ┆ f64       ┆ struct[3] │\n",
       "│         ┆            ┆ str        ┆ str       ┆   ┆ str       ┆          ┆           ┆           │\n",
       "╞═════════╪════════════╪════════════╪═══════════╪═══╪═══════════╪══════════╪═══════════╪═══════════╡\n",
       "│ 778524  ┆ PSA1000pg_ ┆ 13/6/2015  ┆ 4/10/2018 ┆ … ┆ EMSL      ┆ 46.34866 ┆ -119.2781 ┆ {\"Homo_sa │\n",
       "│         ┆ 1st_D_500u ┆ 10:10:30   ┆ 08:12:09  ┆   ┆           ┆          ┆ 73        ┆ piens\",\"9 │\n",
       "│         ┆ gserum_fra ┆            ┆           ┆   ┆           ┆          ┆           ┆ 606\",3421 │\n",
       "│         ┆ …          ┆            ┆           ┆   ┆           ┆          ┆           ┆ 5}        │\n",
       "│ 1223630 ┆ 2017_04_13 ┆ 17/4/2017  ┆ 17/4/2017 ┆ … ┆ EMSL      ┆ 46.34866 ┆ -119.2781 ┆ {null,nul │\n",
       "│         ┆ _Kyle_I_Ta ┆ 16:05:08   ┆ 16:05:08  ┆   ┆           ┆          ┆ 73        ┆ l,34011}  │\n",
       "│         ┆ nnic_AGW_K ┆            ┆           ┆   ┆           ┆          ┆           ┆           │\n",
       "│         ┆ …          ┆            ┆           ┆   ┆           ┆          ┆           ┆           │\n",
       "│ 1008331 ┆ QC_CHECKpr ┆ 21/5/2016  ┆ 21/5/2016 ┆ … ┆ EMSL      ┆ 46.34866 ┆ -119.2781 ┆ {\"Homo_sa │\n",
       "│         ┆ eclean_23J ┆ 20:23:30   ┆ 20:23:30  ┆   ┆           ┆          ┆ 73        ┆ piens\",\"9 │\n",
       "│         ┆ un15_r5    ┆            ┆           ┆   ┆           ┆          ┆           ┆ 606\",3423 │\n",
       "│         ┆            ┆            ┆           ┆   ┆           ┆          ┆           ┆ 4}        │\n",
       "│ 924881  ┆ OMICS_WLN0 ┆ 14/1/2016  ┆ 14/1/2016 ┆ … ┆ EMSL      ┆ 46.34866 ┆ -119.2781 ┆ {\"Homo_sa │\n",
       "│         ┆ 02_mock_po ┆ 14:13:37   ┆ 14:13:37  ┆   ┆           ┆          ┆ 73        ┆ piens\",\"9 │\n",
       "│         ┆ ol_12_18De ┆            ┆           ┆   ┆           ┆          ┆           ┆ 606\",3411 │\n",
       "│         ┆ …          ┆            ┆           ┆   ┆           ┆          ┆           ┆ 6}        │\n",
       "│ 924880  ┆ OMICS_WLN0 ┆ 14/1/2016  ┆ 14/1/2016 ┆ … ┆ EMSL      ┆ 46.34866 ┆ -119.2781 ┆ {\"Homo_sa │\n",
       "│         ┆ 02_mock_po ┆ 14:13:23   ┆ 14:13:23  ┆   ┆           ┆          ┆ 73        ┆ piens\",\"9 │\n",
       "│         ┆ ol_12_18De ┆            ┆           ┆   ┆           ┆          ┆           ┆ 606\",3411 │\n",
       "│         ┆ …          ┆            ┆           ┆   ┆           ┆          ┆           ┆ 6}        │\n",
       "│ …       ┆ …          ┆ …          ┆ …         ┆ … ┆ …         ┆ …        ┆ …         ┆ …         │\n",
       "│ 1239692 ┆ null       ┆ 9/5/2017   ┆ 9/5/2017  ┆ … ┆ EMSL      ┆ 46.34866 ┆ -119.2781 ┆ {null,nul │\n",
       "│         ┆            ┆ 16:47:18   ┆ 16:47:18  ┆   ┆           ┆          ┆ 73        ┆ l,34127}  │\n",
       "│ 270313  ┆ null       ┆ 17/8/2013  ┆ 17/8/2013 ┆ … ┆ EMSL      ┆ 46.34866 ┆ -119.2781 ┆ {null,nul │\n",
       "│         ┆            ┆ 23:18:59   ┆ 23:18:59  ┆   ┆           ┆          ┆ 73        ┆ l,34134}  │\n",
       "│ 221748  ┆ null       ┆ 10/3/2013  ┆ 10/3/2013 ┆ … ┆ EMSL      ┆ 46.34866 ┆ -119.2781 ┆ {null,nul │\n",
       "│         ┆            ┆ 20:49:46   ┆ 20:49:46  ┆   ┆           ┆          ┆ 73        ┆ l,34176}  │\n",
       "│ 1136247 ┆ null       ┆ 22/12/2016 ┆ 22/12/201 ┆ … ┆ EMSL      ┆ 46.34866 ┆ -119.2781 ┆ {null,nul │\n",
       "│         ┆            ┆ 13:38:24   ┆ 6         ┆   ┆           ┆          ┆ 73        ┆ l,34127}  │\n",
       "│         ┆            ┆            ┆ 13:38:24  ┆   ┆           ┆          ┆           ┆           │\n",
       "│ 1136631 ┆ null       ┆ 22/12/2016 ┆ 22/12/201 ┆ … ┆ EMSL      ┆ 46.34866 ┆ -119.2781 ┆ {null,nul │\n",
       "│         ┆            ┆ 17:43:31   ┆ 6         ┆   ┆           ┆          ┆ 73        ┆ l,34114}  │\n",
       "│         ┆            ┆            ┆ 17:43:31  ┆   ┆           ┆          ┆           ┆           │\n",
       "└─────────┴────────────┴────────────┴───────────┴───┴───────────┴──────────┴───────────┴───────────┘"
      ]
     },
     "execution_count": 41,
     "metadata": {},
     "output_type": "execute_result"
    }
   ],
   "source": [
    "pl.from_dicts(new_vals)"
   ]
  },
  {
   "cell_type": "code",
   "execution_count": null,
   "metadata": {},
   "outputs": [],
   "source": []
  }
 ],
 "metadata": {
  "kernelspec": {
   "display_name": ".venv",
   "language": "python",
   "name": "python3"
  },
  "language_info": {
   "codemirror_mode": {
    "name": "ipython",
    "version": 3
   },
   "file_extension": ".py",
   "mimetype": "text/x-python",
   "name": "python",
   "nbconvert_exporter": "python",
   "pygments_lexer": "ipython3",
   "version": "3.13.0"
  }
 },
 "nbformat": 4,
 "nbformat_minor": 2
}
