{
 "cells": [
  {
   "cell_type": "code",
   "execution_count": 1,
   "metadata": {},
   "outputs": [],
   "source": [
    "import polars as pl\n",
    "import numpy as np\n",
    "import requests"
   ]
  },
  {
   "cell_type": "code",
   "execution_count": 2,
   "metadata": {},
   "outputs": [],
   "source": [
    "project_df = pl.from_records(requests.get('https://api.emsl.pnl.gov/nexus/elasticsearch/projects/').json())"
   ]
  },
  {
   "cell_type": "code",
   "execution_count": 7,
   "metadata": {},
   "outputs": [
    {
     "data": {
      "text/plain": [
       "['uuid',\n",
       " 'id',\n",
       " 'status',\n",
       " 'title',\n",
       " 'abstract',\n",
       " 'pis',\n",
       " 'institution_names',\n",
       " 'active_members',\n",
       " 'science_areas',\n",
       " 'project_type',\n",
       " 'award_doi',\n",
       " 'accepted_date',\n",
       " 'started_date',\n",
       " 'closed_date',\n",
       " 'estimated_end_date']"
      ]
     },
     "execution_count": 7,
     "metadata": {},
     "output_type": "execute_result"
    }
   ],
   "source": [
    "project_df.columns"
   ]
  },
  {
   "cell_type": "code",
   "execution_count": 16,
   "metadata": {},
   "outputs": [],
   "source": [
    "project_trimmed_df = project_df[['active_members', 'started_date', 'title', 'award_doi', 'id', 'uuid', 'science_areas', 'project_type']]"
   ]
  },
  {
   "cell_type": "code",
   "execution_count": null,
   "metadata": {},
   "outputs": [],
   "source": [
    "project_trimmed_df = project_trimmed_df.with_columns((\"https://sc-data.emsl.pnnl.gov/?projectId=\" + project_trimmed_df['id']).alias('url'))"
   ]
  },
  {
   "cell_type": "code",
   "execution_count": 17,
   "metadata": {},
   "outputs": [],
   "source": [
    "project_trimmed_df = project_trimmed_df.rename({'title': 'name', 'started_date': 'created_date', 'uuid': 'proposal_identifier', 'award_doi': 'citation_info', 'active_members': 'associated_researchers'})"
   ]
  },
  {
   "cell_type": "code",
   "execution_count": null,
   "metadata": {},
   "outputs": [],
   "source": []
  },
  {
   "cell_type": "code",
   "execution_count": 9,
   "metadata": {},
   "outputs": [],
   "source": [
    "project_trimmed_df.write_json(\"emsl_projects.json\")"
   ]
  },
  {
   "cell_type": "code",
   "execution_count": 19,
   "metadata": {},
   "outputs": [],
   "source": [
    "project_dicts = project_trimmed_df.to_dicts()"
   ]
  },
  {
   "cell_type": "code",
   "execution_count": 21,
   "metadata": {},
   "outputs": [],
   "source": [
    "# project_dicts[0]\n",
    "reformatted_projects = []\n",
    "for project in project_dicts:\n",
    "    reformatted_project = project\n",
    "    reformatted_project['metadata'] = {'science_area': project['science_areas'][0], 'project_type': project['project_type']}\n",
    "    reformatted_project.pop('science_areas')\n",
    "    reformatted_project.pop('project_type')\n",
    "    reformatted_projects.append(reformatted_project)"
   ]
  },
  {
   "cell_type": "code",
   "execution_count": 26,
   "metadata": {},
   "outputs": [],
   "source": [
    "import json\n",
    "with open('emsl_datasets.json', 'w') as f:\n",
    "    f.write(json.dumps(reformatted_projects))"
   ]
  },
  {
   "cell_type": "code",
   "execution_count": 27,
   "metadata": {},
   "outputs": [
    {
     "data": {
      "text/plain": [
       "Schema([('associated_researchers',\n",
       "         List(Struct({'id': Int64, 'name': String, 'orcid': String, 'institution': String, 'project_role': String}))),\n",
       "        ('created_date', String),\n",
       "        ('name', String),\n",
       "        ('citation_info', String),\n",
       "        ('id', String),\n",
       "        ('proposal_identifier', String),\n",
       "        ('url', String),\n",
       "        ('metadata',\n",
       "         Struct({'science_area': String, 'project_type': String}))])"
      ]
     },
     "execution_count": 27,
     "metadata": {},
     "output_type": "execute_result"
    }
   ],
   "source": [
    "pl.from_dicts(reformatted_projects).schema"
   ]
  },
  {
   "cell_type": "code",
   "execution_count": null,
   "metadata": {},
   "outputs": [],
   "source": []
  }
 ],
 "metadata": {
  "kernelspec": {
   "display_name": "Python 3",
   "language": "python",
   "name": "python3"
  },
  "language_info": {
   "codemirror_mode": {
    "name": "ipython",
    "version": 3
   },
   "file_extension": ".py",
   "mimetype": "text/x-python",
   "name": "python",
   "nbconvert_exporter": "python",
   "pygments_lexer": "ipython3",
   "version": "3.13.0"
  }
 },
 "nbformat": 4,
 "nbformat_minor": 2
}
