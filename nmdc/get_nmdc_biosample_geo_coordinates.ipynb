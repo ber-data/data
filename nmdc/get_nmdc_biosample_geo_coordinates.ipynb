{
 "cells": [
  {
   "cell_type": "markdown",
   "id": "d54028d3f8e33bc5",
   "metadata": {},
   "source": [
    "# Get NMDC biosample geographical origin coordinates\n",
    "\n",
    "You can use this notebook to generate a list of the `id` and geographical origin coordinates of each biosample in the NMDC database."
   ]
  },
  {
   "cell_type": "markdown",
   "id": "d49f383a69bca91",
   "metadata": {},
   "source": [
    "### Install and import dependencies"
   ]
  },
  {
   "cell_type": "code",
   "execution_count": null,
   "id": "8d14c681ceb00c05",
   "metadata": {},
   "outputs": [],
   "source": [
    "%pip install requests"
   ]
  },
  {
   "cell_type": "code",
   "execution_count": 2,
   "id": "91d33e1b394611dd",
   "metadata": {},
   "outputs": [],
   "source": [
    "import csv\n",
    "from typing import Optional\n",
    "\n",
    "import requests"
   ]
  },
  {
   "cell_type": "markdown",
   "id": "4e88bb65c2b50ba2",
   "metadata": {},
   "source": [
    "### Fetch the `id` and `lat_lon` of each biosample\n",
    "\n",
    "In this cell, we fetch the `id` value and the `lat_lon` value (i.e., the [geographical origin coordinates](https://microbiomedata.github.io/nmdc-schema/lat_lon/)) of each biosample in the NMDC database.\n",
    "\n",
    "The NMDC API endpoint we use here only returns up to 2000 biosamples per request. Since the NMDC database currently contains more than 2000 biosamples, we submit multiple requests to the NMDC API endpoint — each request being for a distinct page (i.e. batch) of biosamples. \n",
    "\n",
    "Also, when using _page number_-based pagination to access the various pages, the endpoint only provides access to a maximum of 10000 biosamples in total. Since the NMDC database currently contains more than 10000 biosamples, we use _cursor_-based pagination instead."
   ]
  },
  {
   "cell_type": "code",
   "execution_count": 3,
   "id": "9307b4a017df56ea",
   "metadata": {
    "ExecuteTime": {
     "end_time": "2025-02-26T03:25:34.087651Z",
     "start_time": "2025-02-26T03:25:32.755867Z"
    }
   },
   "outputs": [
    {
     "name": "stdout",
     "output_type": "stream",
     "text": [
      "Fetching page number 1 via cursor '*': 2000 biosamples\n",
      "Fetching page number 2 via cursor 'nmdc:sys0kypbyj24': 2000 biosamples\n",
      "Fetching page number 3 via cursor 'nmdc:sys0bhe4tv08': 2000 biosamples\n",
      "Fetching page number 4 via cursor 'nmdc:sys02vhbtb14': 2000 biosamples\n",
      "Fetching page number 5 via cursor 'nmdc:sys0nqe4y821': 2000 biosamples\n",
      "Fetching page number 6 via cursor 'nmdc:sys03av6n346': 2000 biosamples\n",
      "Fetching page number 7 via cursor 'nmdc:sys09d3ets91': 1006 biosamples\n",
      "Fetched `id` and `lat_lon` values for 13006 biosamples\n"
     ]
    }
   ],
   "source": [
    "lat_lons_by_biosample_id = dict()\n",
    "\n",
    "page_num: int = 1\n",
    "page_cursor: Optional[str] = \"*\"  # the \"*\" cursor refers to the first page\n",
    "while True:\n",
    "    print(f\"Fetching page number {page_num} via cursor '{page_cursor}'\", end=\": \")\n",
    "    request_params = dict(per_page=2000, fields=\"lat_lon\", cursor=page_cursor)\n",
    "    response = requests.get(\"https://api.microbiomedata.org/biosamples\", params=request_params)\n",
    "\n",
    "    # Collect the `id` and `lat_lon` value of each biosample in the response.\n",
    "    # Note: Once we have it locally, we can explore it without Internet access.\n",
    "    response_payload = response.json()\n",
    "    biosamples = response_payload[\"results\"]\n",
    "    print(f\"{len(biosamples)} biosamples\")\n",
    "    for biosample in biosamples:\n",
    "        biosample_id = biosample[\"id\"]\n",
    "        biosample_lat_lon = biosample[\"lat_lon\"]\n",
    "        lat_lons_by_biosample_id[biosample_id] = biosample_lat_lon\n",
    "\n",
    "    # If we haven't fetched all the biosamples yet, prepare to fetch the next batch.\n",
    "    # Note: In the NMDC database, each biosample has a unique `id` value.\n",
    "    next_page_cursor = response_payload[\"meta\"][\"next_cursor\"]\n",
    "    if next_page_cursor != None:\n",
    "        page_num += 1\n",
    "        page_cursor = next_page_cursor\n",
    "    else:\n",
    "        break\n",
    "\n",
    "print(f\"Fetched `id` and `lat_lon` values for {len(lat_lons_by_biosample_id)} biosamples\")"
   ]
  },
  {
   "cell_type": "markdown",
   "id": "b3bbefddfce9b53e",
   "metadata": {},
   "source": [
    "### Dump the `id` and geographical origin coordinates to a CSV file\n",
    "\n",
    "In this cell, we dump the fetched data to a CSV file. The CSV file will have the following columns:\n",
    "- `biosample_id`\n",
    "- `latitude`\n",
    "- `longitude`"
   ]
  },
  {
   "cell_type": "code",
   "execution_count": 4,
   "id": "989e40f13d35e49",
   "metadata": {
    "ExecuteTime": {
     "end_time": "2025-02-26T03:25:37.988118Z",
     "start_time": "2025-02-26T03:25:37.956945Z"
    }
   },
   "outputs": [
    {
     "name": "stdout",
     "output_type": "stream",
     "text": [
      "Dumped data to: nmdc_biosample_geo_coordinates.csv\n"
     ]
    }
   ],
   "source": [
    "OUTFILE_PATH = \"nmdc_biosample_geo_coordinates.csv\"\n",
    "\n",
    "with open(OUTFILE_PATH, \"w\") as file:\n",
    "    fieldnames = [\"biosample_id\", \"latitude\", \"longitude\"]\n",
    "    writer = csv.DictWriter(file, fieldnames=fieldnames)\n",
    "    writer.writeheader()\n",
    "    for biosample_id, lat_lon_value in lat_lons_by_biosample_id.items():\n",
    "        latitude = lat_lon_value[\"latitude\"]\n",
    "        longitude = lat_lon_value[\"longitude\"]\n",
    "        row = dict(biosample_id=biosample_id, latitude=latitude, longitude=longitude)\n",
    "        writer.writerow(row)\n",
    "\n",
    "    print(f\"Dumped data to: {OUTFILE_PATH}\")"
   ]
  },
  {
   "cell_type": "markdown",
   "id": "9367806f7f4a83d7",
   "metadata": {},
   "source": [
    "### (Example) Fetch all metadata about a biosample\n",
    "\n",
    "Once you have the `id` of a biosample, you can use the NMDC API to get more metadata about that biosample.\n",
    "\n",
    "In this cell, we fetch metadata about an arbitrary biosample, given its `id`."
   ]
  },
  {
   "cell_type": "code",
   "execution_count": 5,
   "id": "59aeb951bbc6b54a",
   "metadata": {
    "ExecuteTime": {
     "end_time": "2025-02-26T03:25:41.403762Z",
     "start_time": "2025-02-26T03:25:41.265668Z"
    }
   },
   "outputs": [
    {
     "data": {
      "text/plain": [
       "{'id': 'nmdc:bsm-13-amrnys72',\n",
       " 'name': 'Sand microcosm microbial communities from a hyporheic zone in Columbia River, Washington, USA - GW-RW T4_25-Nov-14',\n",
       " 'description': 'Sterilized sand packs were incubated back in the ground and collected at time point T4.',\n",
       " 'env_broad_scale': {'has_raw_value': 'ENVO:01000253',\n",
       "  'term': {'id': 'ENVO:01000253', 'type': 'nmdc:OntologyClass'},\n",
       "  'type': 'nmdc:ControlledIdentifiedTermValue'},\n",
       " 'env_local_scale': {'has_raw_value': 'ENVO:01000621',\n",
       "  'term': {'id': 'ENVO:01000621', 'type': 'nmdc:OntologyClass'},\n",
       "  'type': 'nmdc:ControlledIdentifiedTermValue'},\n",
       " 'env_medium': {'has_raw_value': 'ENVO:01000017',\n",
       "  'term': {'id': 'ENVO:01000017', 'type': 'nmdc:OntologyClass'},\n",
       "  'type': 'nmdc:ControlledIdentifiedTermValue'},\n",
       " 'type': 'nmdc:Biosample',\n",
       " 'collection_date': {'has_raw_value': '2014-11-25',\n",
       "  'type': 'nmdc:TimestampValue'},\n",
       " 'depth': {'has_raw_value': '0.5',\n",
       "  'has_numeric_value': 0.5,\n",
       "  'has_unit': 'm',\n",
       "  'type': 'nmdc:QuantityValue'},\n",
       " 'geo_loc_name': {'has_raw_value': 'USA: Columbia River, Washington',\n",
       "  'type': 'nmdc:TextValue'},\n",
       " 'lat_lon': {'has_raw_value': '46.37228379 -119.2717467',\n",
       "  'latitude': 46.37228379,\n",
       "  'longitude': -119.2717467,\n",
       "  'type': 'nmdc:GeolocationValue'},\n",
       " 'ecosystem': 'Engineered',\n",
       " 'ecosystem_category': 'Artificial ecosystem',\n",
       " 'ecosystem_type': 'Sand microcosm',\n",
       " 'ecosystem_subtype': 'Unclassified',\n",
       " 'specific_ecosystem': 'Unclassified',\n",
       " 'add_date': '2015-05-28',\n",
       " 'community': 'microbial communities',\n",
       " 'habitat': 'sand microcosm',\n",
       " 'location': 'groundwater-surface water interaction zone in Washington, USA',\n",
       " 'mod_date': '2021-06-17',\n",
       " 'ncbi_taxonomy_name': 'sediment metagenome',\n",
       " 'sample_collection_site': 'sand microcosm',\n",
       " 'alternative_identifiers': ['img.taxon:3300042754'],\n",
       " 'insdc_biosample_identifiers': ['biosample:SAMN06343877'],\n",
       " 'samp_name': 'GW-RW T4_25-Nov-14',\n",
       " 'gold_biosample_identifiers': ['gold:Gb0115231'],\n",
       " 'associated_studies': ['nmdc:sty-11-aygzgv51']}"
      ]
     },
     "execution_count": 5,
     "metadata": {},
     "output_type": "execute_result"
    }
   ],
   "source": [
    "biosample_id = \"nmdc:bsm-13-amrnys72\"  # this is the `id` of an arbitrary biosample\n",
    "\n",
    "response = requests.get(f\"https://api.microbiomedata.org/biosamples/{biosample_id}\")\n",
    "biosample = response.json()\n",
    "biosample"
   ]
  }
 ],
 "metadata": {
  "kernelspec": {
   "display_name": ".venv",
   "language": "python",
   "name": "python3"
  },
  "language_info": {
   "codemirror_mode": {
    "name": "ipython",
    "version": 3
   },
   "file_extension": ".py",
   "mimetype": "text/x-python",
   "name": "python",
   "nbconvert_exporter": "python",
   "pygments_lexer": "ipython3",
   "version": "3.12.9"
  }
 },
 "nbformat": 4,
 "nbformat_minor": 5
}
